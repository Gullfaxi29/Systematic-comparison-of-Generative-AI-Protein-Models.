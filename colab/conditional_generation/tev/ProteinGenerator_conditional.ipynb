{
 "cells": [
  {
   "cell_type": "code",
   "execution_count": null,
   "metadata": {
    "colab": {
     "base_uri": "https://localhost:8080/"
    },
    "executionInfo": {
     "elapsed": 47169,
     "status": "ok",
     "timestamp": 1719021611795,
     "user": {
      "displayName": "Alexander Barnett",
      "userId": "00179978372066039901"
     },
     "user_tz": -600
    },
    "id": "gWVPq0ldajXe",
    "outputId": "f0610ccb-c044-4e38-8194-ff0a3fb176f9"
   },
   "outputs": [],
   "source": [
    "from google.colab import drive\n",
    "drive.mount('/content/drive')\n",
    "\n",
    "!wget https://repo.anaconda.com/miniconda/Miniconda3-latest-Linux-x86_64.sh\n",
    "!chmod +x Miniconda3-latest-Linux-x86_64.sh\n",
    "!./Miniconda3-latest-Linux-x86_64.sh -b -f -p /usr/local\n",
    "\n",
    "!git clone https://github.com/RosettaCommons/protein_generator"
   ]
  },
  {
   "cell_type": "code",
   "execution_count": null,
   "metadata": {
    "colab": {
     "base_uri": "https://localhost:8080/"
    },
    "executionInfo": {
     "elapsed": 427884,
     "status": "ok",
     "timestamp": 1719022039675,
     "user": {
      "displayName": "Alexander Barnett",
      "userId": "00179978372066039901"
     },
     "user_tz": -600
    },
    "id": "oPe1X9wLJU9D",
    "outputId": "9ec0a0d3-c416-4288-f4e4-9ee72136232f"
   },
   "outputs": [],
   "source": [
    "%cd ./protein_generator\n",
    "!conda env create -f environment.yml"
   ]
  },
  {
   "cell_type": "code",
   "execution_count": null,
   "metadata": {
    "colab": {
     "base_uri": "https://localhost:8080/"
    },
    "executionInfo": {
     "elapsed": 1842,
     "status": "ok",
     "timestamp": 1719022041511,
     "user": {
      "displayName": "Alexander Barnett",
      "userId": "00179978372066039901"
     },
     "user_tz": -600
    },
    "id": "3l63ncRge0Q9",
    "outputId": "872df03d-d9a8-4690-c393-071877c6fbcf"
   },
   "outputs": [],
   "source": [
    "%%bash\n",
    "source activate proteingenerator\n",
    "pip install -e ./"
   ]
  },
  {
   "cell_type": "code",
   "execution_count": null,
   "metadata": {
    "colab": {
     "base_uri": "https://localhost:8080/"
    },
    "executionInfo": {
     "elapsed": 39481,
     "status": "ok",
     "timestamp": 1719022080980,
     "user": {
      "displayName": "Alexander Barnett",
      "userId": "00179978372066039901"
     },
     "user_tz": -600
    },
    "id": "T_oJPPiKfmjK",
    "outputId": "1d1a5279-edb7-4a43-f35c-a6ffda2828eb"
   },
   "outputs": [],
   "source": [
    "!wget http://files.ipd.uw.edu/pub/sequence_diffusion/checkpoints/SEQDIFF_230205_dssp_hotspots_25mask_EQtasks_mod30.pt\n",
    "!wget http://files.ipd.uw.edu/pub/sequence_diffusion/checkpoints/SEQDIFF_221219_equalTASKS_nostrSELFCOND_mod30.pt"
   ]
  },
  {
   "cell_type": "code",
   "execution_count": null,
   "metadata": {
    "colab": {
     "base_uri": "https://localhost:8080/"
    },
    "executionInfo": {
     "elapsed": 7009,
     "status": "ok",
     "timestamp": 1719022087987,
     "user": {
      "displayName": "Alexander Barnett",
      "userId": "00179978372066039901"
     },
     "user_tz": -600
    },
    "id": "-Z0WoZHhCeUh",
    "outputId": "b66f1f3c-e723-47ea-b4c4-09bb0261e9fa"
   },
   "outputs": [
    {
     "name": "stdout",
     "output_type": "stream",
     "text": [
      "Existing generation metadata read in.\n"
     ]
    }
   ],
   "source": [
    "import os\n",
    "import shutil\n",
    "import glob\n",
    "import json\n",
    "import numpy as np\n",
    "import matplotlib.pyplot as plt\n",
    "import pandas as pd\n",
    "import uuid\n",
    "from datetime import datetime\n",
    "import re\n",
    "import torch\n",
    "from time import time\n",
    "\n",
    "meta_data_filepath = \"/content/drive/MyDrive/Generative_Models/conditional_generation/protein_generator_tev/generation_metadata_proteingenerator_tev.csv\"\n",
    "\n",
    "if os.path.exists(meta_data_filepath):\n",
    "  all_metadata_df = pd.read_csv(meta_data_filepath)\n",
    "  print(\"Existing generation metadata read in.\")\n",
    "else:\n",
    "  all_metadata_df = pd.DataFrame()\n",
    "  #all_metadata_df.to_csv(meta_data_filepath, index=False)\n",
    "  print(\"Created generation metadata dataframe\")\n"
   ]
  },
  {
   "cell_type": "code",
   "execution_count": null,
   "metadata": {
    "colab": {
     "base_uri": "https://localhost:8080/"
    },
    "executionInfo": {
     "elapsed": 11993121,
     "status": "ok",
     "timestamp": 1719048900438,
     "user": {
      "displayName": "Alexander Barnett",
      "userId": "00179978372066039901"
     },
     "user_tz": -600
    },
    "id": "3h1zq3EY6wKT",
    "outputId": "4646a2f1-8f9c-494a-a2ce-7fe3dfa5a886"
   },
   "outputs": [],
   "source": [
    "import time\n",
    "!mkdir samples\n",
    "\n",
    "\n",
    "generation_command = f\"\"\"\n",
    "source activate proteingenerator\n",
    "python ./inference.py --num_designs 50 --out samples/scaffolding --pdb /content/drive/MyDrive/Generative_Models/conditional_generation/tev_monomer.pdb  --contigs 27,A28-33,13,A47-51,88,A140-152,15,A168-179,32,A212-221,16 --T 25 --save_best_plddt\n",
    "\"\"\"\n",
    "#generation_command = f\"\"\"\n",
    "#source activate proteingenerator\n",
    "#python ./inference.py --num_designs 50 --out samples/scaffolding --sequence XXXXXXXXXXXXXXXXXXXXXXXXXXXGHTTSLXXXXXXXXXXXXXHLFRRXXXXXXXXXXXXXXXXXXXXXXXXXXXXXXXXXXXXXXXXXXXXXXXXXXXXXXXXXXXXXXXXXXXXXXXXXXXXXXXXXXXXXXXXFWKHWIQTKDGQCXXXXXXXXXXXXXXXHSASNFTNTNNYXXXXXXXXXXXXXXXXXXXXXXXXXXXXXXXXWGGHKVFMVKXXXXXXXXXXXXXXXX --T 25 --save_best_plddt\n",
    "#\"\"\"\n",
    "\n",
    "\n",
    "batch_size = 50\n",
    "meta_data = {}\n",
    "meta_data['batch_id'] = str(uuid.uuid4())\n",
    "meta_data['batch_size'] = str(batch_size)\n",
    "meta_data['Timestamp'] = str(datetime.now())\n",
    "meta_data['model'] = 'protein_generator'\n",
    "meta_data['task'] = 'all_atom_pdb_generation'\n",
    "meta_data['conditions'] = 'tev (monomer) scaffolding (structure) [--contigs 27,A28-33,13,A47-51,88,A140-152,15,A168-179,32,A212-221,16]'\n",
    "#meta_data['conditions'] = 'tev (monomer) scaffolding (sequence) [--sequence XXXXXXXXXXXXXXXXXXXXXXXXXXXGHTTSLXXXXXXXXXXXXXHLFRRXXXXXXXXXXXXXXXXXXXXXXXXXXXXXXXXXXXXXXXXXXXXXXXXXXXXXXXXXXXXXXXXXXXXXXXXXXXXXXXXXXXXXXXXFWKHWIQTKDGQCXXXXXXXXXXXXXXXHSASNFTNTNNYXXXXXXXXXXXXXXXXXXXXXXXXXXXXXXXXWGGHKVFMVKXXXXXXXXXXXXXXXX]'\n",
    "meta_data['gpu'] = 'T4 GPU'\n",
    "start_time = time.time()\n",
    "!{generation_command}\n",
    "end_time = time.time()\n",
    "total_job_time = end_time - start_time\n",
    "meta_data['wall_time_batch'] = str(total_job_time) + \" Seconds\"\n",
    "meta_data['wall_time_task'] = str(total_job_time/batch_size) + \" Seconds (inferred)\"\n",
    "\n",
    "for filename in os.listdir(\"/content/protein_generator/samples\"):\n",
    "  if filename.endswith(\".pdb\"):\n",
    "    meta_data['entity_id'] = str(uuid.uuid4())\n",
    "    #new_name = \"proteingenerator_tev_seq_\" + meta_data['entity_id'] + \".pdb\"\n",
    "    new_name = \"proteingenerator_tev_struct_\" + meta_data['entity_id'] + \".pdb\"\n",
    "    meta_data['output_file_name'] = new_name\n",
    "    metadata_entry = pd.Series(meta_data)\n",
    "    all_metadata_df = pd.concat([all_metadata_df,pd.DataFrame(metadata_entry).T], ignore_index=True)\n",
    "    cleanup_command = f\"\"\"mv /content/protein_generator/samples/{filename} /content/drive/MyDrive/Generative_Models/IL10_scaffolding/protein_generator_il10/{new_name}\"\"\"\n",
    "    !{cleanup_command}\n",
    "\n",
    "all_metadata_df.to_csv(meta_data_filepath, index=False)\n",
    "print(\"Metadata saved. Cleaning up....\")\n",
    "!rm -r /content/protein_generator/samples\n",
    "\n",
    "torch.cuda.empty_cache()"
   ]
  }
 ],
 "metadata": {
  "accelerator": "GPU",
  "colab": {
   "authorship_tag": "ABX9TyO82f7ejZfGs15e1n9u5RXG",
   "gpuType": "T4",
   "provenance": []
  },
  "kernelspec": {
   "display_name": "Python 3",
   "name": "python3"
  },
  "language_info": {
   "name": "python"
  }
 },
 "nbformat": 4,
 "nbformat_minor": 0
}
