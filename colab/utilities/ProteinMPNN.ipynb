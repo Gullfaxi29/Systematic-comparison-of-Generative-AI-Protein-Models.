{
 "cells": [
  {
   "cell_type": "code",
   "execution_count": null,
   "metadata": {
    "colab": {
     "base_uri": "https://localhost:8080/"
    },
    "executionInfo": {
     "elapsed": 16053,
     "status": "ok",
     "timestamp": 1723081102307,
     "user": {
      "displayName": "Alexander Barnett",
      "userId": "00179978372066039901"
     },
     "user_tz": -600
    },
    "id": "XPMJsU_uD7AC",
    "outputId": "bd49e4a3-0bed-46a5-a275-064d31a61e5c"
   },
   "outputs": [],
   "source": [
    "%pip install biopython"
   ]
  },
  {
   "cell_type": "code",
   "execution_count": null,
   "metadata": {
    "colab": {
     "base_uri": "https://localhost:8080/"
    },
    "executionInfo": {
     "elapsed": 41213,
     "status": "ok",
     "timestamp": 1723081143513,
     "user": {
      "displayName": "Alexander Barnett",
      "userId": "00179978372066039901"
     },
     "user_tz": -600
    },
    "id": "kWGtCvOHK3GH",
    "outputId": "4a5f1bdb-5444-4a9f-9a77-1fb538d4a925"
   },
   "outputs": [],
   "source": [
    "!wget https://repo.anaconda.com/miniconda/Miniconda3-latest-Linux-x86_64.sh\n",
    "!chmod +x Miniconda3-latest-Linux-x86_64.sh\n",
    "!./Miniconda3-latest-Linux-x86_64.sh -b -f -p /usr/local\n",
    "!git clone https://github.com/dauparas/ProteinMPNN\n",
    "%cd ./ProteinMPNN\n",
    "!conda create --name mpnn -y"
   ]
  },
  {
   "cell_type": "code",
   "execution_count": null,
   "metadata": {
    "colab": {
     "base_uri": "https://localhost:8080/"
    },
    "executionInfo": {
     "elapsed": 61138,
     "status": "ok",
     "timestamp": 1723081204632,
     "user": {
      "displayName": "Alexander Barnett",
      "userId": "00179978372066039901"
     },
     "user_tz": -600
    },
    "id": "fAyBwkQkVBzH",
    "outputId": "4e801a5b-6c8c-43d1-fc3f-a4bf09cc8413"
   },
   "outputs": [],
   "source": [
    "%%bash\n",
    "source activate mpnn\n",
    "conda install pytorch torchvision torchaudio cudatoolkit=11.3 -c pytorch -y"
   ]
  },
  {
   "cell_type": "code",
   "execution_count": null,
   "metadata": {
    "colab": {
     "base_uri": "https://localhost:8080/"
    },
    "executionInfo": {
     "elapsed": 25040,
     "status": "ok",
     "timestamp": 1723081229665,
     "user": {
      "displayName": "Alexander Barnett",
      "userId": "00179978372066039901"
     },
     "user_tz": -600
    },
    "id": "qTHMYoqoWJR0",
    "outputId": "1db27aba-9f1a-4d95-e00b-8aaede78daa8"
   },
   "outputs": [],
   "source": [
    "from google.colab import drive\n",
    "drive.mount('/content/drive')\n",
    "\n",
    "import os\n",
    "import shutil\n",
    "import glob\n",
    "import json\n",
    "import numpy as np\n",
    "import matplotlib.pyplot as plt\n",
    "import pandas as pd\n",
    "import uuid\n",
    "from datetime import datetime\n",
    "import re\n",
    "import torch\n",
    "from time import time\n",
    "\n",
    "meta_data_filepath = \"/content/drive/MyDrive/Generative_Models/utilities/metadata_mpnn.csv\"\n",
    "\n",
    "if os.path.exists(meta_data_filepath):\n",
    "  all_metadata_df = pd.read_csv(meta_data_filepath)\n",
    "  print(\"Existing MPNN metadata read in.\")\n",
    "else:\n",
    "  all_metadata_df = pd.DataFrame()\n",
    "  #all_metadata_df.to_csv(meta_data_filepath, index=False)\n",
    "  print(\"Created MPNN metadata dataframe\")"
   ]
  },
  {
   "cell_type": "code",
   "execution_count": 5,
   "metadata": {
    "executionInfo": {
     "elapsed": 83061,
     "status": "ok",
     "timestamp": 1723081312692,
     "user": {
      "displayName": "Alexander Barnett",
      "userId": "00179978372066039901"
     },
     "user_tz": -600
    },
    "id": "2-Xh7PlsXAXv"
   },
   "outputs": [],
   "source": [
    "import os\n",
    "root_dir = \"/content/drive/MyDrive/Generative_Models/unconditional_generation/\"\n",
    "paths = []\n",
    "for dirpath, dirnames, filenames in os.walk(root_dir):\n",
    "  for filename in filenames:\n",
    "      if \"generation_metadata\" in filename:\n",
    "          paths.append(os.path.join(dirpath, filename))\n",
    "\n",
    "import pandas as pd\n",
    "all_dfs = []\n",
    "for file_path in paths:\n",
    "  df = pd.read_csv(file_path)\n",
    "  df[\"dir_path\"] = \"/\".join(file_path.split(\"/\")[:-1])\n",
    "  all_dfs.append(df)\n",
    "gen_meta = pd.concat(all_dfs, ignore_index=True)"
   ]
  },
  {
   "cell_type": "code",
   "execution_count": 6,
   "metadata": {
    "executionInfo": {
     "elapsed": 28,
     "status": "ok",
     "timestamp": 1723081312694,
     "user": {
      "displayName": "Alexander Barnett",
      "userId": "00179978372066039901"
     },
     "user_tz": -600
    },
    "id": "yHFr2HZe_X99"
   },
   "outputs": [],
   "source": [
    "gen_meta = gen_meta[(gen_meta['entity_id'].notnull()) & (gen_meta['task'].str.contains('backbone'))] #& (gen_meta['model'].isin(['framediff']))]\n",
    "gen_meta['length'] = None\n",
    "gen_meta.loc[:,\"length\"] = gen_meta.loc[:,\"conditions\"].str.extract('(\\d+)')[0].astype(int)\n",
    "gen_meta['input_file_path'] = (gen_meta.dir_path + '/' + gen_meta.output_file_name)\n",
    "gen_meta = gen_meta.rename(columns={\"output_file_name\":\"input_file_name\"})\n",
    "gen_meta = gen_meta[['model','length','input_file_path','input_file_name', \"entity_id\"]]\n",
    "gen_meta = gen_meta.sample(frac=1) #just shuffling the rows\n",
    "gen_meta = gen_meta.sort_values(by=['length'], ascending=True)"
   ]
  },
  {
   "cell_type": "code",
   "execution_count": 7,
   "metadata": {
    "executionInfo": {
     "elapsed": 24,
     "status": "ok",
     "timestamp": 1723081312694,
     "user": {
      "displayName": "Alexander Barnett",
      "userId": "00179978372066039901"
     },
     "user_tz": -600
    },
    "id": "A0qHRpYRSjxp"
   },
   "outputs": [],
   "source": [
    "#All foldingdiff outputs > 128 in length are actually just 128 so we'll ignore them\n",
    "gen_meta = gen_meta.loc[~((gen_meta['length'] > 128) & (gen_meta['model'] == 'foldingdiff'))]"
   ]
  },
  {
   "cell_type": "code",
   "execution_count": 11,
   "metadata": {
    "executionInfo": {
     "elapsed": 180479,
     "status": "ok",
     "timestamp": 1723100905743,
     "user": {
      "displayName": "Alexander Barnett",
      "userId": "00179978372066039901"
     },
     "user_tz": -600
    },
    "id": "HCdIBrVi-BX8"
   },
   "outputs": [],
   "source": [
    "from Bio import SeqIO\n",
    "import time\n",
    "num_designs = 10\n",
    "\n",
    "for index, row in gen_meta.iterrows():\n",
    "  length = row[\"length\"]\n",
    "  pdb_file= row[\"input_file_path\"]\n",
    "  output_dir = \"/content/drive/MyDrive/Generative_Models/utilities/MPNN_backbone/len\" + str(length) + \"/\" + row[\"model\"]\n",
    "  if not os.path.exists(output_dir):\n",
    "    os.makedirs(output_dir)\n",
    "  output_fasta = output_dir + \"/seqs/\" +row[\"input_file_name\"].split(\".\")[0]+\".fa\"\n",
    "\n",
    "  if (not all_metadata_df.empty) and (any(all_metadata_df['output_file_path'].str.contains(output_fasta))): continue #file has already been redesigned\n",
    "  if length ==100: continue # already did these in a batch, will need to rename\n",
    "  if length > 200: continue\n",
    "  os.makedirs(output_dir, exist_ok=True)\n",
    "  print('\\n')\n",
    "  print('\\n')\n",
    "  print(pdb_file)\n",
    "  print(\"out to... \" + output_fasta)\n",
    "  print('\\n')\n",
    "  print('\\n')\n",
    "\n",
    "  meta_data_entry = row.copy()[[\"model\",\"input_file_path\",\"entity_id\"]]\n",
    "  meta_data_entry[\"gen_model\"] = row[\"model\"]\n",
    "  meta_data_entry[\"model\"] = \"ProteinMPNN\"\n",
    "  meta_data_entry[\"task\"] = \"Sequence Redesign\"\n",
    "  meta_data_entry[\"Timestamp\"] = str(datetime.now())\n",
    "  meta_data_entry['gpu'] = 'T4 GPU'\n",
    "  meta_data_entry['length'] = length\n",
    "  meta_data_entry['output_file_path'] = output_fasta\n",
    "  meta_data_entry['num_designs'] = num_designs\n",
    "\n",
    "  start_time = time.time()\n",
    "  mpnn_command = f\"\"\"\n",
    "    source activate mpnn\n",
    "    python ./protein_mpnn_run.py --pdb_path {pdb_file} --out_folder {output_dir} --num_seq_per_target {num_designs} --sampling_temp \"0.1\" --seed 0 --batch_size 1 --ca_only\n",
    "    \"\"\"\n",
    "  !{mpnn_command}\n",
    "  end_time = time.time()\n",
    "  meta_data_entry['wall_time_task'] = str(end_time-start_time) + \" Seconds\"\n",
    "\n",
    "  try:\n",
    "    records = list(SeqIO.parse(output_fasta, \"fasta\"))\n",
    "    for pair in [pair.split('=') for pair in records[0].description.split(', ')[1:]]:\n",
    "          meta_data_entry[pair[0]] = pair[1]\n",
    "    for i, record in enumerate(records):\n",
    "      record.id = row[\"input_file_name\"].split(\".\")[0] + \"_design\"+str(i)\n",
    "      record.name = row['input_file_name']\n",
    "\n",
    "    SeqIO.write(records, output_fasta, \"fasta\")\n",
    "    all_metadata_df = pd.concat([all_metadata_df,pd.DataFrame(meta_data_entry).T], ignore_index=True)\n",
    "    all_metadata_df.to_csv(meta_data_filepath, index=False)\n",
    "  except FileNotFoundError:\n",
    "    print(f\"The file {output_fasta} does not exist.\")\n",
    "\n"
   ]
  }
 ],
 "metadata": {
  "accelerator": "GPU",
  "colab": {
   "gpuType": "T4",
   "provenance": [
    {
     "file_id": "https://github.com/dauparas/ProteinMPNN/blob/main/colab_notebooks/quickdemo.ipynb",
     "timestamp": 1701821945271
    }
   ]
  },
  "kernelspec": {
   "display_name": "Python 3",
   "name": "python3"
  },
  "language_info": {
   "name": "python"
  }
 },
 "nbformat": 4,
 "nbformat_minor": 0
}
