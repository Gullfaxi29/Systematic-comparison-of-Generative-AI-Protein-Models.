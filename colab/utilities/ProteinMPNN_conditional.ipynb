{
 "cells": [
  {
   "cell_type": "code",
   "execution_count": 1,
   "metadata": {
    "colab": {
     "base_uri": "https://localhost:8080/"
    },
    "executionInfo": {
     "elapsed": 23835,
     "status": "ok",
     "timestamp": 1719192730429,
     "user": {
      "displayName": "Alexander Barnett",
      "userId": "00179978372066039901"
     },
     "user_tz": -600
    },
    "id": "-pbHCe5PWMm1",
    "outputId": "bc486216-378c-4452-c803-609d13b0d92a"
   },
   "outputs": [
    {
     "name": "stdout",
     "output_type": "stream",
     "text": [
      "Mounted at /content/drive\n"
     ]
    }
   ],
   "source": [
    "from google.colab import drive\n",
    "drive.mount('/content/drive')"
   ]
  },
  {
   "cell_type": "code",
   "execution_count": null,
   "metadata": {
    "colab": {
     "base_uri": "https://localhost:8080/"
    },
    "collapsed": true,
    "executionInfo": {
     "elapsed": 10070,
     "status": "ok",
     "timestamp": 1719192740495,
     "user": {
      "displayName": "Alexander Barnett",
      "userId": "00179978372066039901"
     },
     "user_tz": -600
    },
    "id": "XPMJsU_uD7AC",
    "outputId": "925e2edd-e458-4efe-dd44-cd461cd725dc"
   },
   "outputs": [],
   "source": [
    "%pip install biopython"
   ]
  },
  {
   "cell_type": "code",
   "execution_count": null,
   "metadata": {
    "colab": {
     "base_uri": "https://localhost:8080/"
    },
    "collapsed": true,
    "executionInfo": {
     "elapsed": 46082,
     "status": "ok",
     "timestamp": 1719192786572,
     "user": {
      "displayName": "Alexander Barnett",
      "userId": "00179978372066039901"
     },
     "user_tz": -600
    },
    "id": "kWGtCvOHK3GH",
    "outputId": "e70d6b11-f7f3-4e87-d5f2-b5e3af4b8b90"
   },
   "outputs": [],
   "source": [
    "!wget https://repo.anaconda.com/miniconda/Miniconda3-latest-Linux-x86_64.sh\n",
    "!chmod +x Miniconda3-latest-Linux-x86_64.sh\n",
    "!./Miniconda3-latest-Linux-x86_64.sh -b -f -p /usr/local\n",
    "!git clone https://github.com/dauparas/ProteinMPNN\n",
    "%cd ./ProteinMPNN\n",
    "!conda create --name mpnn -y"
   ]
  },
  {
   "cell_type": "code",
   "execution_count": null,
   "metadata": {
    "colab": {
     "base_uri": "https://localhost:8080/"
    },
    "collapsed": true,
    "executionInfo": {
     "elapsed": 59997,
     "status": "ok",
     "timestamp": 1719192846559,
     "user": {
      "displayName": "Alexander Barnett",
      "userId": "00179978372066039901"
     },
     "user_tz": -600
    },
    "id": "fAyBwkQkVBzH",
    "outputId": "00b4efed-719f-40c2-daeb-312a80d9bb9d"
   },
   "outputs": [],
   "source": [
    "%%bash\n",
    "source activate mpnn\n",
    "conda install pytorch torchvision torchaudio cudatoolkit=11.3 -c pytorch -y"
   ]
  },
  {
   "cell_type": "code",
   "execution_count": null,
   "metadata": {
    "colab": {
     "base_uri": "https://localhost:8080/"
    },
    "executionInfo": {
     "elapsed": 5096,
     "status": "ok",
     "timestamp": 1719192851645,
     "user": {
      "displayName": "Alexander Barnett",
      "userId": "00179978372066039901"
     },
     "user_tz": -600
    },
    "id": "qTHMYoqoWJR0",
    "outputId": "160958f9-9891-49cd-c95a-949d9fe86d98"
   },
   "outputs": [
    {
     "name": "stdout",
     "output_type": "stream",
     "text": [
      "Existing generation metadata read in.\n"
     ]
    }
   ],
   "source": [
    "import os\n",
    "import shutil\n",
    "import glob\n",
    "import json\n",
    "import numpy as np\n",
    "import matplotlib.pyplot as plt\n",
    "import pandas as pd\n",
    "import uuid\n",
    "from datetime import datetime\n",
    "import re\n",
    "import torch\n",
    "from time import time\n",
    "\n",
    "meta_data_filepath = \"/content/drive/MyDrive/Generative_Models/conditional_generation/metadata_mpnn_fixed.csv\"\n",
    "\n",
    "if os.path.exists(meta_data_filepath):\n",
    "  all_metadata_df = pd.read_csv(meta_data_filepath)\n",
    "  print(\"Existing generation metadata read in.\")\n",
    "else:\n",
    "  all_metadata_df = pd.DataFrame()\n",
    "  #all_metadata_df.to_csv(meta_data_filepath, index=False)\n",
    "  print(\"Created mpnn metadata dataframe\")"
   ]
  },
  {
   "cell_type": "code",
   "execution_count": null,
   "metadata": {
    "executionInfo": {
     "elapsed": 19822,
     "status": "ok",
     "timestamp": 1719192871458,
     "user": {
      "displayName": "Alexander Barnett",
      "userId": "00179978372066039901"
     },
     "user_tz": -600
    },
    "id": "2-Xh7PlsXAXv"
   },
   "outputs": [],
   "source": [
    "import os\n",
    "root_dir = \"/content/drive/MyDrive/Generative_Models/conditional_generation/\"\n",
    "paths = []\n",
    "for dirpath, dirnames, filenames in os.walk(root_dir):\n",
    "  for filename in filenames:\n",
    "      if \"generation_metadata\" in filename:\n",
    "          paths.append(os.path.join(dirpath, filename))\n",
    "\n",
    "import pandas as pd\n",
    "all_dfs = []\n",
    "for file_path in paths:\n",
    "  df = pd.read_csv(file_path)\n",
    "  df[\"dir_path\"] = \"/\".join(file_path.split(\"/\")[:-1])\n",
    "  all_dfs.append(df)\n",
    "gen_meta = pd.concat(all_dfs, ignore_index=True)"
   ]
  },
  {
   "cell_type": "code",
   "execution_count": 7,
   "metadata": {
    "executionInfo": {
     "elapsed": 14,
     "status": "ok",
     "timestamp": 1719192871458,
     "user": {
      "displayName": "Alexander Barnett",
      "userId": "00179978372066039901"
     },
     "user_tz": -600
    },
    "id": "yHFr2HZe_X99"
   },
   "outputs": [],
   "source": [
    "gen_meta = gen_meta[(gen_meta['entity_id'].notnull()) & (gen_meta['task'].str.contains('backbone'))] #& (gen_meta['model'].isin(['framediff']))]\n",
    "gen_meta['input_file_path'] = (gen_meta.dir_path + '/' + gen_meta.output_file_name)\n",
    "gen_meta = gen_meta.rename(columns={\"output_file_name\":\"input_file_name\"})\n",
    "gen_meta = gen_meta[['model','input_file_path','input_file_name', \"entity_id\"]]\n"
   ]
  },
  {
   "cell_type": "code",
   "execution_count": null,
   "metadata": {
    "colab": {
     "base_uri": "https://localhost:8080/"
    },
    "executionInfo": {
     "elapsed": 3,
     "status": "ok",
     "timestamp": 1719192872749,
     "user": {
      "displayName": "Alexander Barnett",
      "userId": "00179978372066039901"
     },
     "user_tz": -600
    },
    "id": "G9M70zsT31Q_",
    "outputId": "ba6851bb-a71a-4fb9-aacd-daf6efa6fc5a"
   },
   "outputs": [
    {
     "name": "stdout",
     "output_type": "stream",
     "text": [
      "Created mpnn metadata dataframe\n"
     ]
    }
   ],
   "source": [
    "meta_data_filepath = \"/content/drive/MyDrive/Generative_Models/conditional_generation/metadata_mpnn_solo.csv\"\n",
    "\n",
    "if os.path.exists(meta_data_filepath):\n",
    "  all_metadata_df = pd.read_csv(meta_data_filepath)\n",
    "  print(\"Existing generation metadata read in.\")\n",
    "else:\n",
    "  all_metadata_df = pd.DataFrame()\n",
    "  #all_metadata_df.to_csv(meta_data_filepath, index=False)\n",
    "  print(\"Created mpnn metadata dataframe\")"
   ]
  },
  {
   "cell_type": "code",
   "execution_count": null,
   "metadata": {
    "colab": {
     "base_uri": "https://localhost:8080/"
    },
    "executionInfo": {
     "elapsed": 145475,
     "status": "ok",
     "timestamp": 1719194729526,
     "user": {
      "displayName": "Alexander Barnett",
      "userId": "00179978372066039901"
     },
     "user_tz": -600
    },
    "id": "3V6gpsRp3536",
    "outputId": "034cc4e5-9d7c-4e60-ad52-8e45d6ebad9f"
   },
   "outputs": [],
   "source": [
    "from Bio import SeqIO\n",
    "import time\n",
    "num_designs = 100\n",
    "\n",
    "mpnn_alphabet = 'ACDEFGHIKLMNPQRSTVWYX'\n",
    "mpnn_alphabet_dict = {'A': 0,'C': 1,'D': 2,'E': 3,'F': 4,'G': 5,'H': 6,'I': 7,'K': 8,'L': 9,'M': 10,'N': 11,'P': 12,'Q': 13,'R': 14,'S': 15,'T': 16,'V': 17,'W': 18,'Y': 19,'X': 20}\n",
    "chain_length = 184\n",
    "#chain_length = 237\n",
    "\n",
    "pdb_file= \"/content/drive/MyDrive/Generative_Models/conditional_generation/tev_monomer.pdb\"\n",
    "output_dir = \"/content/drive/MyDrive/Generative_Models/conditional_generation/MPNN_solo_redesigns\"\n",
    "output_fasta = output_dir + \"/seqs/tev.fa\"\n",
    "os.makedirs(output_dir, exist_ok=True)\n",
    "#make the json which biases the motif positions completely\n",
    "bias_per_residue = np.zeros([chain_length, 21])\n",
    "residues = list(range(24,50)) + list(range(90,125))\n",
    "#\"24/A25-50/40/A91-125/59/0 C1-184\"\n",
    "motif_res = \"QSENSCTHFPGYLPNMLRDLRDAFSRLEEVMPQAENQDPDIKAHVISLGENLNTLRLRLRR\"\n",
    "#residues = list(range(27,33)) + list(range(46,51)) + list(range(139,152)) + list(range(167,179)) + list(range(211,221))\n",
    "#\"27/A28-33/13/A47-51/88/A140-152/15/A168-179/32/A212-221/16\"\n",
    "#motif_res = \"GHTTSLHLFRRFWKHWIQTKDGQCHSASNFTNTNNYWGGHKVFMVK\"\n",
    "motif_res = [mpnn_alphabet_dict[x] for x in motif_res]\n",
    "for j, res in enumerate(residues):\n",
    "  for aa in mpnn_alphabet:\n",
    "    if mpnn_alphabet_dict[aa] == motif_res[j]:\n",
    "      bias_per_residue[res,mpnn_alphabet_dict[aa]] = 100\n",
    "    else:\n",
    "      bias_per_residue[res,mpnn_alphabet_dict[aa]] = -100\n",
    "bias_by_res_dict = {}\n",
    "bias_by_res_dict[\"A\"] = bias_per_residue.tolist()\n",
    "motif_bias_dict = {}\n",
    "motif_bias_dict[pdb_file.split(\"/\")[-1].split(\".\")[0]] = bias_by_res_dict\n",
    "with open('/content/ProteinMPNN/motif_bias.jsonl', 'w') as f:\n",
    "  json.dump(motif_bias_dict, f)\n",
    "\n",
    "meta_data_entry = pd.Series()\n",
    "meta_data_entry[\"gen_model\"] = \"NA\"\n",
    "meta_data_entry[\"model\"] = \"ProteinMPNN\"\n",
    "meta_data_entry[\"input_file_path\"] = \"NA\"\n",
    "meta_data_entry[\"task\"] = \"Sequence Redesign (fixed motif)\"\n",
    "meta_data_entry[\"Timestamp\"] = str(datetime.now())\n",
    "meta_data_entry['gpu'] = 'T4 GPU'\n",
    "meta_data_entry['output_file_path'] = output_fasta\n",
    "meta_data_entry['num_designs'] = num_designs\n",
    "\n",
    "start_time = time.time()\n",
    "if \"comp\" in pdb_file:\n",
    "  mpnn_command = f\"\"\"\n",
    "    source activate mpnn\n",
    "    python ./protein_mpnn_run.py --pdb_path {pdb_file} --pdb_path_chains A --out_folder {output_dir} --num_seq_per_target {num_designs} --bias_by_res_jsonl '/content/ProteinMPNN/motif_bias.jsonl' --sampling_temp \"0.1\" --seed 0 --batch_size 1 --ca_only\n",
    "    \"\"\"\n",
    "else:\n",
    "  mpnn_command = f\"\"\"\n",
    "    source activate mpnn\n",
    "    python ./protein_mpnn_run.py --pdb_path {pdb_file} --out_folder {output_dir} --num_seq_per_target {num_designs} --bias_by_res_jsonl '/content/ProteinMPNN/motif_bias.jsonl'  --sampling_temp \"0.1\" --seed 0 --batch_size 1 --ca_only\n",
    "    \"\"\"\n",
    "!{mpnn_command}\n",
    "end_time = time.time()\n",
    "meta_data_entry['wall_time_task'] = str(end_time-start_time) + \" Seconds\"\n",
    "\n",
    "try:\n",
    "  records = list(SeqIO.parse(output_fasta, \"fasta\"))\n",
    "  for pair in [pair.split('=') for pair in records[0].description.split(', ')[1:]]:\n",
    "        meta_data_entry[pair[0]] = pair[1]\n",
    "  for i, record in enumerate(records):\n",
    "    #record.id = row['model'] + \"_il10_fixed_\" + row[\"entity_id\"]+\"_design\"+str(i)\n",
    "    record.id = \"mpnn_solo_il10_fixed_\" + str(uuid.uuid4())\n",
    "    record.name = \"mpnn_solo_il10_fixed_\" + str(uuid.uuid4())\n",
    "\n",
    "  SeqIO.write(records, output_fasta, \"fasta\")\n",
    "  all_metadata_df = pd.concat([all_metadata_df,pd.DataFrame(meta_data_entry).T], ignore_index=True)\n",
    "  all_metadata_df.to_csv(meta_data_filepath, index=False)\n",
    "except FileNotFoundError:\n",
    "  print(f\"The file {output_fasta} does not exist.\")\n",
    "\n",
    "\n",
    "\n",
    "\n"
   ]
  },
  {
   "cell_type": "code",
   "execution_count": null,
   "metadata": {
    "id": "Soy8zebl902C"
   },
   "outputs": [],
   "source": []
  }
 ],
 "metadata": {
  "accelerator": "GPU",
  "colab": {
   "gpuType": "T4",
   "provenance": [
    {
     "file_id": "https://github.com/dauparas/ProteinMPNN/blob/main/colab_notebooks/quickdemo.ipynb",
     "timestamp": 1701821945271
    }
   ]
  },
  "kernelspec": {
   "display_name": "Python 3",
   "name": "python3"
  },
  "language_info": {
   "name": "python"
  }
 },
 "nbformat": 4,
 "nbformat_minor": 0
}
