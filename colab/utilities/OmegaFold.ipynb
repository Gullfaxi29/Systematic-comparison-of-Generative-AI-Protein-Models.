{
 "cells": [
  {
   "cell_type": "code",
   "execution_count": null,
   "metadata": {
    "colab": {
     "base_uri": "https://localhost:8080/"
    },
    "executionInfo": {
     "elapsed": 45545,
     "status": "ok",
     "timestamp": 1726614646251,
     "user": {
      "displayName": "Alexander Barnett",
      "userId": "00179978372066039901"
     },
     "user_tz": -600
    },
    "id": "P4sYDdePqqec",
    "outputId": "3ebefada-023e-4d83-fec7-ae6a30718c03"
   },
   "outputs": [],
   "source": [
    "from google.colab import drive\n",
    "drive.mount('/content/drive')\n",
    "!pip install biopython"
   ]
  },
  {
   "cell_type": "code",
   "execution_count": null,
   "metadata": {
    "colab": {
     "base_uri": "https://localhost:8080/"
    },
    "executionInfo": {
     "elapsed": 126748,
     "status": "ok",
     "timestamp": 1726614772981,
     "user": {
      "displayName": "Alexander Barnett",
      "userId": "00179978372066039901"
     },
     "user_tz": -600
    },
    "id": "s6cP9FhgxDSK",
    "outputId": "113e8756-a701-4980-f235-0cdebfbc0a39"
   },
   "outputs": [],
   "source": [
    "pip install git+https://github.com/HeliXonProtein/OmegaFold.git"
   ]
  },
  {
   "cell_type": "code",
   "execution_count": null,
   "metadata": {
    "colab": {
     "base_uri": "https://localhost:8080/"
    },
    "executionInfo": {
     "elapsed": 248746,
     "status": "ok",
     "timestamp": 1726615021706,
     "user": {
      "displayName": "Alexander Barnett",
      "userId": "00179978372066039901"
     },
     "user_tz": -600
    },
    "id": "r5-4b2_E6ZZr",
    "outputId": "c493f8d9-a533-456d-eaa3-279cea1a9884"
   },
   "outputs": [],
   "source": [
    "#do a fake run of omegafold before mounting to drive to download the weights etc.\n",
    "!omegafold /thisdoesnotexist.fa /content/output"
   ]
  },
  {
   "cell_type": "code",
   "execution_count": 4,
   "metadata": {
    "colab": {
     "base_uri": "https://localhost:8080/"
    },
    "executionInfo": {
     "elapsed": 3981,
     "status": "ok",
     "timestamp": 1726615025663,
     "user": {
      "displayName": "Alexander Barnett",
      "userId": "00179978372066039901"
     },
     "user_tz": -600
    },
    "id": "mCF2JmdQx-Xq",
    "outputId": "261f1217-23f7-41a5-8dad-1668944dc6f0"
   },
   "outputs": [
    {
     "name": "stdout",
     "output_type": "stream",
     "text": [
      "Existing generation metadata read in.\n"
     ]
    }
   ],
   "source": [
    "import os\n",
    "import shutil\n",
    "import glob\n",
    "import json\n",
    "import numpy as np\n",
    "import matplotlib.pyplot as plt\n",
    "import pandas as pd\n",
    "import uuid\n",
    "from datetime import datetime\n",
    "import re\n",
    "import torch\n",
    "import time\n",
    "from Bio import SeqIO\n",
    "\n",
    "meta_data_filepath = \"/content/drive/MyDrive/Generative_Models/utilities/metadata_omegafold.csv\"\n",
    "\n",
    "if os.path.exists(meta_data_filepath):\n",
    "  all_metadata_df = pd.read_csv(meta_data_filepath)\n",
    "  print(\"Existing generation metadata read in.\")\n",
    "else:\n",
    "  all_metadata_df = pd.DataFrame()\n",
    "  #all_metadata_df.to_csv(meta_data_filepath, index=False)\n",
    "  print(\"Created omegafold metadata dataframe\")"
   ]
  },
  {
   "cell_type": "code",
   "execution_count": 5,
   "metadata": {
    "executionInfo": {
     "elapsed": 7,
     "status": "ok",
     "timestamp": 1726615025663,
     "user": {
      "displayName": "Alexander Barnett",
      "userId": "00179978372066039901"
     },
     "user_tz": -600
    },
    "id": "P_Z3rbyXQDT8"
   },
   "outputs": [],
   "source": [
    "def count_records_fasta(fasta_file):\n",
    "  records = list(SeqIO.parse(fasta_file, \"fasta\"))\n",
    "  return len(records)"
   ]
  },
  {
   "cell_type": "code",
   "execution_count": 6,
   "metadata": {
    "executionInfo": {
     "elapsed": 7,
     "status": "ok",
     "timestamp": 1726615025664,
     "user": {
      "displayName": "Alexander Barnett",
      "userId": "00179978372066039901"
     },
     "user_tz": -600
    },
    "id": "_zxtkCxmmEvg"
   },
   "outputs": [],
   "source": [
    "def digest_large_fasta(fasta_file,num_processed, max_num_records=100):\n",
    "  !rm -rf tmp_files\n",
    "  !mkdir tmp_files\n",
    "  records = list(SeqIO.parse(fasta_file, \"fasta\"))\n",
    "  records = records[num_processed:]\n",
    "  digested = [records[i:i+max_num_records] for i in range(0, len(records), max_num_records)]\n",
    "  tmp_fastas=[]\n",
    "  for i, d in enumerate(digested):\n",
    "    tmp_path = \"/content/tmp_files/\" + fasta_file.split('/')[-1].split('.')[0] + \"_\" + str(i) + \".fa\"\n",
    "    tmp_fastas.append(tmp_path)\n",
    "    with open(tmp_path, \"w\") as f:\n",
    "      SeqIO.write(d, f, \"fasta\")\n",
    "  return tmp_fastas\n"
   ]
  },
  {
   "cell_type": "code",
   "execution_count": null,
   "metadata": {
    "colab": {
     "base_uri": "https://localhost:8080/"
    },
    "executionInfo": {
     "elapsed": 6418812,
     "status": "ok",
     "timestamp": 1726639534777,
     "user": {
      "displayName": "Alexander Barnett",
      "userId": "00179978372066039901"
     },
     "user_tz": -600
    },
    "id": "iBLpCosWPOst",
    "outputId": "38164ea8-e347-4a91-af74-a20fd20b9816"
   },
   "outputs": [],
   "source": [
    "for length in range(14,200):\n",
    "  input_file_path = f\"/content/drive/MyDrive/Generative_Models/utilities/fold_inputs/all_len{length}.fa\"\n",
    "  #input_file_path = f\"/content/drive/MyDrive/Generative_Models/utilities/refold_inputs/all_len{length}.fa\"\n",
    "  output_dir_path = \"/content/drive/MyDrive/Generative_Models/utilities/omegafold/\" + input_file_path.split('/')[-1].split('.')[0]\n",
    "  num_records = count_records_fasta(input_file_path)\n",
    "  num_processed = all_metadata_df.loc[all_metadata_df['input_file_path'] == input_file_path, 'batch_size'].sum()\n",
    "  if num_processed < num_records:\n",
    "    print(input_file_path)\n",
    "    print(f\"{num_records} sequences.\")\n",
    "    print(f\"{num_processed} already processed.\")\n",
    "    tmp_fastas = digest_large_fasta(input_file_path, num_processed)\n",
    "    for tmp_fasta in tmp_fastas:\n",
    "      meta_data_entry = pd.Series()\n",
    "      meta_data_entry[\"model\"] = \"omegafold\"\n",
    "      meta_data_entry[\"task\"] = \"Structure Prediction\"\n",
    "      meta_data_entry[\"input_file_path\"] = input_file_path\n",
    "      meta_data_entry[\"output_dir_path\"] = output_dir_path\n",
    "      meta_data_entry[\"Timestamp\"] = str(datetime.now())\n",
    "      meta_data_entry['gpu'] = 'T4 GPU'\n",
    "      meta_data_entry[\"batch_id\"] = str(uuid.uuid4())\n",
    "      meta_data_entry['batch_size'] = count_records_fasta(tmp_fasta)\n",
    "      print(f\"{meta_data_entry['batch_size']} sequences in this batch ({tmp_fasta})\")\n",
    "      print(\"-------------------------------------------------\")\n",
    "      start_time = time.time()\n",
    "      !omegafold {tmp_fasta} {output_dir_path}\n",
    "      end_time = time.time()\n",
    "      total_job_time = end_time - start_time\n",
    "      meta_data_entry['wall_time_batch'] = str(total_job_time) + \" Seconds\"\n",
    "      meta_data_entry['wall_time_task'] = str(total_job_time/meta_data_entry['batch_size']) + \" Seconds (inferred)\"\n",
    "      all_metadata_df = pd.concat([all_metadata_df,pd.DataFrame(meta_data_entry).T], ignore_index=True)\n",
    "      all_metadata_df.to_csv(meta_data_filepath, index=False)\n",
    "  else:\n",
    "    print(f\"All entries in {input_file_path} already processed.\")"
   ]
  }
 ],
 "metadata": {
  "accelerator": "GPU",
  "colab": {
   "authorship_tag": "ABX9TyOXsGVrR7IVpXoY47bDYcB4",
   "gpuType": "T4",
   "provenance": []
  },
  "kernelspec": {
   "display_name": "Python 3",
   "name": "python3"
  },
  "language_info": {
   "name": "python"
  }
 },
 "nbformat": 4,
 "nbformat_minor": 0
}
